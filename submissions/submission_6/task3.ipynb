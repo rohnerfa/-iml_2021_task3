{
  "nbformat": 4,
  "nbformat_minor": 0,
  "metadata": {
    "colab": {
      "name": "task3.ipynb",
      "provenance": []
    },
    "kernelspec": {
      "display_name": "Python 3",
      "name": "python3"
    },
    "language_info": {
      "name": "python"
    }
  },
  "cells": [
    {
      "cell_type": "code",
      "metadata": {
        "id": "ZWRjbO30ibWO",
        "colab": {
          "base_uri": "https://localhost:8080/"
        },
        "outputId": "ea6f160d-1ca3-4860-8192-9313339d811b"
      },
      "source": [
        "from google.colab import drive\n",
        "drive.mount('/content/drive/')"
      ],
      "execution_count": null,
      "outputs": [
        {
          "output_type": "stream",
          "text": [
            "Mounted at /content/drive/\n"
          ],
          "name": "stdout"
        }
      ]
    },
    {
      "cell_type": "code",
      "metadata": {
        "id": "R3TM0pFEi8B9"
      },
      "source": [
        "import pandas as pd\n",
        "import numpy as np\n",
        "\n",
        "from sklearn.neural_network import MLPClassifier\n",
        "from sklearn.metrics import f1_score"
      ],
      "execution_count": null,
      "outputs": []
    },
    {
      "cell_type": "markdown",
      "metadata": {
        "id": "K5amDFsfeOH1"
      },
      "source": [
        "# Importing data and setting up DataFrames for classification"
      ]
    },
    {
      "cell_type": "code",
      "metadata": {
        "id": "11uwNF8ai-OK"
      },
      "source": [
        "data_train = pd.read_csv('/content/drive/MyDrive/ml_task_3/train.csv')\n",
        "data_test = pd.read_csv('/content/drive/MyDrive/ml_task_3/test.csv')"
      ],
      "execution_count": null,
      "outputs": []
    },
    {
      "cell_type": "code",
      "metadata": {
        "colab": {
          "base_uri": "https://localhost:8080/"
        },
        "id": "kZRgit0L1zKF",
        "outputId": "505795b2-1237-4f66-87ed-102f304ccdad"
      },
      "source": [
        "data_train.head"
      ],
      "execution_count": null,
      "outputs": [
        {
          "output_type": "execute_result",
          "data": {
            "text/plain": [
              "<bound method NDFrame.head of        Sequence  Active\n",
              "0          DKWL       0\n",
              "1          FCHN       0\n",
              "2          KDQP       0\n",
              "3          FNWI       0\n",
              "4          NKRM       0\n",
              "...         ...     ...\n",
              "111995     GSME       0\n",
              "111996     DLPT       0\n",
              "111997     SGHC       0\n",
              "111998     KIGT       0\n",
              "111999     PGPT       0\n",
              "\n",
              "[112000 rows x 2 columns]>"
            ]
          },
          "metadata": {
            "tags": []
          },
          "execution_count": 7
        }
      ]
    },
    {
      "cell_type": "markdown",
      "metadata": {
        "id": "UniBIfdfefhL"
      },
      "source": [
        "we split the four character string into a column for each character"
      ]
    },
    {
      "cell_type": "code",
      "metadata": {
        "id": "_jKoJ04tjVyz"
      },
      "source": [
        "data_train_split = data_train['Sequence'].str.split('', n=4, expand=True).drop(columns=0)\n",
        "data_test_split = data_test['Sequence'].str.split('', n=4, expand=True).drop(columns=0)"
      ],
      "execution_count": null,
      "outputs": []
    },
    {
      "cell_type": "markdown",
      "metadata": {
        "id": "BlspUba5e2dc"
      },
      "source": [
        "use one-hot encoding to obtain numerical inputs "
      ]
    },
    {
      "cell_type": "code",
      "metadata": {
        "id": "ULcUqXuN3TKf"
      },
      "source": [
        "data_train_encoded = pd.get_dummies(data_train_split, columns=[1,2,3,4])\n",
        "data_test_encoded = pd.get_dummies(data_test_split)"
      ],
      "execution_count": null,
      "outputs": []
    },
    {
      "cell_type": "markdown",
      "metadata": {
        "id": "hSweo24BfR9_"
      },
      "source": [
        "set up the final arrays for training"
      ]
    },
    {
      "cell_type": "code",
      "metadata": {
        "id": "ceW-RLpsIA4x"
      },
      "source": [
        "train_X = data_train_encoded.to_numpy()\n",
        "train_y = data_train['Active'].to_numpy()"
      ],
      "execution_count": null,
      "outputs": []
    },
    {
      "cell_type": "markdown",
      "metadata": {
        "id": "ldE845KA0Olt"
      },
      "source": [
        "# Fixing Class inbalance"
      ]
    },
    {
      "cell_type": "code",
      "metadata": {
        "colab": {
          "base_uri": "https://localhost:8080/"
        },
        "id": "e0v8HPTE0NNy",
        "outputId": "1be23e10-e830-4b07-93b8-a1e49efda7f0"
      },
      "source": [
        "# import imblearn\n",
        "# from imblearn.over_sampling import SMOTE\n",
        "\n",
        "# smote = SMOTE(ratio='minority')\n",
        "# X_sm, y_sm = smote.fit_sample(train_X, train_y)\n",
        "\n",
        "# clf_SMOTE = MLPClassifier(random_state=1, max_iter=300, verbose=1).fit(X_sm, y_sm)\n",
        "# print(f'The final f1 score is: {f1_score(y_sm, clf_SMOTE.predict(X_sm))}.')"
      ],
      "execution_count": null,
      "outputs": [
        {
          "output_type": "stream",
          "text": [
            "/usr/local/lib/python3.7/dist-packages/sklearn/utils/deprecation.py:87: FutureWarning: Function safe_indexing is deprecated; safe_indexing is deprecated in version 0.22 and will be removed in version 0.24.\n",
            "  warnings.warn(msg, category=FutureWarning)\n"
          ],
          "name": "stderr"
        },
        {
          "output_type": "stream",
          "text": [
            "Iteration 1, loss = 0.12121853\n",
            "Iteration 2, loss = 0.04193690\n",
            "Iteration 3, loss = 0.03405021\n",
            "Iteration 4, loss = 0.02889686\n",
            "Iteration 5, loss = 0.02489359\n",
            "Iteration 6, loss = 0.02179989\n",
            "Iteration 7, loss = 0.01964117\n",
            "Iteration 8, loss = 0.01803978\n",
            "Iteration 9, loss = 0.01683951\n",
            "Iteration 10, loss = 0.01586573\n",
            "Iteration 11, loss = 0.01494374\n",
            "Iteration 12, loss = 0.01434561\n",
            "Iteration 13, loss = 0.01368637\n",
            "Iteration 14, loss = 0.01304513\n",
            "Iteration 15, loss = 0.01260312\n",
            "Iteration 16, loss = 0.01211894\n",
            "Iteration 17, loss = 0.01169968\n",
            "Iteration 18, loss = 0.01126663\n",
            "Iteration 19, loss = 0.01096480\n",
            "Iteration 20, loss = 0.01057464\n",
            "Iteration 21, loss = 0.01022757\n",
            "Iteration 22, loss = 0.00996993\n",
            "Iteration 23, loss = 0.00974457\n",
            "Iteration 24, loss = 0.00949279\n",
            "Iteration 25, loss = 0.00930531\n",
            "Iteration 26, loss = 0.00901120\n",
            "Iteration 27, loss = 0.00882494\n",
            "Iteration 28, loss = 0.00858138\n",
            "Iteration 29, loss = 0.00830965\n",
            "Iteration 30, loss = 0.00822203\n",
            "Iteration 31, loss = 0.00796808\n",
            "Iteration 32, loss = 0.00786968\n",
            "Iteration 33, loss = 0.00768194\n",
            "Iteration 34, loss = 0.00747000\n",
            "Iteration 35, loss = 0.00725734\n",
            "Iteration 36, loss = 0.00714864\n",
            "Iteration 37, loss = 0.00692169\n",
            "Iteration 38, loss = 0.00693282\n",
            "Iteration 39, loss = 0.00667527\n",
            "Iteration 40, loss = 0.00666545\n",
            "Iteration 41, loss = 0.00642642\n",
            "Iteration 42, loss = 0.00634393\n",
            "Iteration 43, loss = 0.00624878\n",
            "Iteration 44, loss = 0.00610425\n",
            "Iteration 45, loss = 0.00599014\n",
            "Iteration 46, loss = 0.00592340\n",
            "Iteration 47, loss = 0.00578691\n",
            "Iteration 48, loss = 0.00574408\n",
            "Iteration 49, loss = 0.00558242\n",
            "Iteration 50, loss = 0.00557672\n",
            "Iteration 51, loss = 0.00536044\n",
            "Iteration 52, loss = 0.00521413\n",
            "Iteration 53, loss = 0.00524610\n",
            "Iteration 54, loss = 0.00510554\n",
            "Iteration 55, loss = 0.00493483\n",
            "Iteration 56, loss = 0.00494073\n",
            "Iteration 57, loss = 0.00486330\n",
            "Iteration 58, loss = 0.00480870\n",
            "Iteration 59, loss = 0.00463489\n",
            "Iteration 60, loss = 0.00474625\n",
            "Iteration 61, loss = 0.00455311\n",
            "Iteration 62, loss = 0.00449275\n",
            "Iteration 63, loss = 0.00438085\n",
            "Iteration 64, loss = 0.00429659\n",
            "Iteration 65, loss = 0.00429377\n",
            "Iteration 66, loss = 0.00423515\n",
            "Iteration 67, loss = 0.00416037\n",
            "Iteration 68, loss = 0.00411107\n",
            "Iteration 69, loss = 0.00402326\n",
            "Iteration 70, loss = 0.00399291\n",
            "Iteration 71, loss = 0.00398240\n",
            "Iteration 72, loss = 0.00386513\n",
            "Iteration 73, loss = 0.00384026\n",
            "Iteration 74, loss = 0.00372462\n",
            "Iteration 75, loss = 0.00367621\n",
            "Iteration 76, loss = 0.00367975\n",
            "Iteration 77, loss = 0.00360814\n",
            "Iteration 78, loss = 0.00361899\n",
            "Iteration 79, loss = 0.00353341\n",
            "Iteration 80, loss = 0.00352425\n",
            "Iteration 81, loss = 0.00346189\n",
            "Iteration 82, loss = 0.00344155\n",
            "Iteration 83, loss = 0.00339633\n",
            "Iteration 84, loss = 0.00334775\n",
            "Iteration 85, loss = 0.00326058\n",
            "Training loss did not improve more than tol=0.000100 for 10 consecutive epochs. Stopping.\n",
            "The final f1 score is: 0.9994110581939427.\n"
          ],
          "name": "stdout"
        }
      ]
    },
    {
      "cell_type": "code",
      "metadata": {
        "id": "SY2pOHbA1m9L"
      },
      "source": [
        "# test_X = data_test_encoded.to_numpy()\n",
        "# y_pred = clf_SMOTE.predict(test_X)"
      ],
      "execution_count": null,
      "outputs": []
    },
    {
      "cell_type": "code",
      "metadata": {
        "id": "g2IgvZKe1vGI"
      },
      "source": [
        "# submission = pd.DataFrame(y_pred).to_csv('submission.csv', index=False, header=False)"
      ],
      "execution_count": null,
      "outputs": []
    },
    {
      "cell_type": "markdown",
      "metadata": {
        "id": "xAjM0TTX0TIv"
      },
      "source": [
        "\n",
        "# Make Classification"
      ]
    },
    {
      "cell_type": "code",
      "metadata": {
        "colab": {
          "base_uri": "https://localhost:8080/"
        },
        "id": "Z5rWjbTcIDac",
        "outputId": "b8dc24d5-888a-4226-a9fb-fc1d93e39cac"
      },
      "source": [
        "clf = MLPClassifier(random_state=1, max_iter=300, verbose=1).fit(train_X, train_y)"
      ],
      "execution_count": null,
      "outputs": [
        {
          "output_type": "stream",
          "text": [
            "Iteration 1, loss = 0.13439259\n",
            "Iteration 2, loss = 0.05907202\n",
            "Iteration 3, loss = 0.04832384\n",
            "Iteration 4, loss = 0.04117785\n",
            "Iteration 5, loss = 0.03576173\n",
            "Iteration 6, loss = 0.03171621\n",
            "Iteration 7, loss = 0.02859062\n",
            "Iteration 8, loss = 0.02615462\n",
            "Iteration 9, loss = 0.02404762\n",
            "Iteration 10, loss = 0.02249407\n",
            "Iteration 11, loss = 0.02117560\n",
            "Iteration 12, loss = 0.02000660\n",
            "Iteration 13, loss = 0.01902917\n",
            "Iteration 14, loss = 0.01823088\n",
            "Iteration 15, loss = 0.01748776\n",
            "Iteration 16, loss = 0.01667282\n",
            "Iteration 17, loss = 0.01605070\n",
            "Iteration 18, loss = 0.01544006\n",
            "Iteration 19, loss = 0.01484580\n",
            "Iteration 20, loss = 0.01435889\n",
            "Iteration 21, loss = 0.01390077\n",
            "Iteration 22, loss = 0.01333933\n",
            "Iteration 23, loss = 0.01295574\n",
            "Iteration 24, loss = 0.01251557\n",
            "Iteration 25, loss = 0.01213322\n",
            "Iteration 26, loss = 0.01184814\n",
            "Iteration 27, loss = 0.01141843\n",
            "Iteration 28, loss = 0.01116946\n",
            "Iteration 29, loss = 0.01076511\n",
            "Iteration 30, loss = 0.01056664\n",
            "Iteration 31, loss = 0.01010689\n",
            "Iteration 32, loss = 0.00986065\n",
            "Iteration 33, loss = 0.00955466\n",
            "Iteration 34, loss = 0.00935484\n",
            "Iteration 35, loss = 0.00902791\n",
            "Iteration 36, loss = 0.00880701\n",
            "Iteration 37, loss = 0.00857674\n",
            "Iteration 38, loss = 0.00830788\n",
            "Iteration 39, loss = 0.00804279\n",
            "Iteration 40, loss = 0.00788667\n",
            "Iteration 41, loss = 0.00764911\n",
            "Iteration 42, loss = 0.00743154\n",
            "Iteration 43, loss = 0.00721394\n",
            "Iteration 44, loss = 0.00701600\n",
            "Iteration 45, loss = 0.00694522\n",
            "Iteration 46, loss = 0.00673068\n",
            "Iteration 47, loss = 0.00658097\n",
            "Iteration 48, loss = 0.00635865\n",
            "Iteration 49, loss = 0.00619520\n",
            "Iteration 50, loss = 0.00606241\n",
            "Iteration 51, loss = 0.00586205\n",
            "Iteration 52, loss = 0.00574478\n",
            "Iteration 53, loss = 0.00560088\n",
            "Iteration 54, loss = 0.00546283\n",
            "Iteration 55, loss = 0.00541601\n",
            "Iteration 56, loss = 0.00519782\n",
            "Iteration 57, loss = 0.00500600\n",
            "Iteration 58, loss = 0.00493984\n",
            "Iteration 59, loss = 0.00487279\n",
            "Iteration 60, loss = 0.00465466\n",
            "Iteration 61, loss = 0.00459501\n",
            "Iteration 62, loss = 0.00451148\n",
            "Iteration 63, loss = 0.00431769\n",
            "Iteration 64, loss = 0.00422012\n",
            "Iteration 65, loss = 0.00416563\n",
            "Iteration 66, loss = 0.00403829\n",
            "Iteration 67, loss = 0.00391529\n",
            "Iteration 68, loss = 0.00384861\n",
            "Iteration 69, loss = 0.00378977\n",
            "Iteration 70, loss = 0.00356960\n",
            "Iteration 71, loss = 0.00362191\n",
            "Iteration 72, loss = 0.00345193\n",
            "Iteration 73, loss = 0.00332524\n",
            "Iteration 74, loss = 0.00330092\n",
            "Iteration 75, loss = 0.00321631\n",
            "Iteration 76, loss = 0.00310599\n",
            "Iteration 77, loss = 0.00311976\n",
            "Iteration 78, loss = 0.00298807\n",
            "Iteration 79, loss = 0.00285360\n",
            "Iteration 80, loss = 0.00286888\n",
            "Iteration 81, loss = 0.00271937\n",
            "Iteration 82, loss = 0.00270061\n",
            "Iteration 83, loss = 0.00267479\n",
            "Iteration 84, loss = 0.00258921\n",
            "Iteration 85, loss = 0.00253490\n",
            "Iteration 86, loss = 0.00241767\n",
            "Iteration 87, loss = 0.00240299\n",
            "Iteration 88, loss = 0.00239218\n",
            "Iteration 89, loss = 0.00223957\n",
            "Iteration 90, loss = 0.00221180\n",
            "Iteration 91, loss = 0.00227235\n",
            "Iteration 92, loss = 0.00216273\n",
            "Iteration 93, loss = 0.00207484\n",
            "Iteration 94, loss = 0.00210077\n",
            "Iteration 95, loss = 0.00201141\n",
            "Iteration 96, loss = 0.00195959\n",
            "Iteration 97, loss = 0.00194147\n",
            "Iteration 98, loss = 0.00195184\n",
            "Iteration 99, loss = 0.00185770\n",
            "Iteration 100, loss = 0.00185051\n",
            "Training loss did not improve more than tol=0.000100 for 10 consecutive epochs. Stopping.\n"
          ],
          "name": "stdout"
        }
      ]
    },
    {
      "cell_type": "code",
      "metadata": {
        "colab": {
          "base_uri": "https://localhost:8080/"
        },
        "id": "OcAbTZXyJ8X4",
        "outputId": "3f71bc58-7da2-4a3f-edec-82cfbcd22024"
      },
      "source": [
        "print(f'The final f1 score is: {f1_score(train_y, clf.predict(train_X))}.')"
      ],
      "execution_count": null,
      "outputs": [
        {
          "output_type": "stream",
          "text": [
            "0.9995255041518387\n"
          ],
          "name": "stdout"
        }
      ]
    },
    {
      "cell_type": "markdown",
      "metadata": {
        "id": "tbqq4rf0flBM"
      },
      "source": [
        "use model to predict for our test data"
      ]
    },
    {
      "cell_type": "code",
      "metadata": {
        "id": "v5SsYZ6HNrO4"
      },
      "source": [
        "test_X = data_test_encoded.to_numpy()\n",
        "y_pred = clf.predict(test_X)"
      ],
      "execution_count": null,
      "outputs": []
    },
    {
      "cell_type": "markdown",
      "metadata": {
        "id": "3mGLRJ5lfs6A"
      },
      "source": [
        "export prediction to csv file"
      ]
    },
    {
      "cell_type": "code",
      "metadata": {
        "id": "TjRZVCa2OEFM"
      },
      "source": [
        "submission = pd.DataFrame(y_pred).to_csv('submission.csv', index=False, header=False)"
      ],
      "execution_count": null,
      "outputs": []
    }
  ]
}