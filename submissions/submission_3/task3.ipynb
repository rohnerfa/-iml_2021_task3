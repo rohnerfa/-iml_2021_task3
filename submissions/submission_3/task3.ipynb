{
  "nbformat": 4,
  "nbformat_minor": 0,
  "metadata": {
    "colab": {
      "name": "task3.ipynb",
      "provenance": [],
      "toc_visible": true
    },
    "kernelspec": {
      "display_name": "Python 3",
      "name": "python3"
    },
    "language_info": {
      "name": "python"
    }
  },
  "cells": [
    {
      "cell_type": "code",
      "metadata": {
        "id": "ZWRjbO30ibWO",
        "colab": {
          "base_uri": "https://localhost:8080/"
        },
        "outputId": "ea6f160d-1ca3-4860-8192-9313339d811b"
      },
      "source": [
        "\n",
        "from google.colab import drive\n",
        "drive.mount('/content/drive/')"
      ],
      "execution_count": 2,
      "outputs": [
        {
          "output_type": "stream",
          "text": [
            "Mounted at /content/drive/\n"
          ],
          "name": "stdout"
        }
      ]
    },
    {
      "cell_type": "code",
      "metadata": {
        "id": "R3TM0pFEi8B9"
      },
      "source": [
        "import pandas as pd\n",
        "import numpy as np\n",
        "\n",
        "from sklearn.neural_network import MLPClassifier\n",
        "from sklearn.metrics import f1_score"
      ],
      "execution_count": 3,
      "outputs": []
    },
    {
      "cell_type": "markdown",
      "metadata": {
        "id": "K5amDFsfeOH1"
      },
      "source": [
        "# Importing data and setting up DataFrames for classification"
      ]
    },
    {
      "cell_type": "code",
      "metadata": {
        "id": "11uwNF8ai-OK"
      },
      "source": [
        "data_train = pd.read_csv('/content/drive/MyDrive/ml_task_3/train.csv')\n",
        "data_test = pd.read_csv('/content/drive/MyDrive/ml_task_3/test.csv')"
      ],
      "execution_count": 4,
      "outputs": []
    },
    {
      "cell_type": "code",
      "metadata": {
        "colab": {
          "base_uri": "https://localhost:8080/"
        },
        "id": "kZRgit0L1zKF",
        "outputId": "505795b2-1237-4f66-87ed-102f304ccdad"
      },
      "source": [
        "data_train.head"
      ],
      "execution_count": 7,
      "outputs": [
        {
          "output_type": "execute_result",
          "data": {
            "text/plain": [
              "<bound method NDFrame.head of        Sequence  Active\n",
              "0          DKWL       0\n",
              "1          FCHN       0\n",
              "2          KDQP       0\n",
              "3          FNWI       0\n",
              "4          NKRM       0\n",
              "...         ...     ...\n",
              "111995     GSME       0\n",
              "111996     DLPT       0\n",
              "111997     SGHC       0\n",
              "111998     KIGT       0\n",
              "111999     PGPT       0\n",
              "\n",
              "[112000 rows x 2 columns]>"
            ]
          },
          "metadata": {
            "tags": []
          },
          "execution_count": 7
        }
      ]
    },
    {
      "cell_type": "markdown",
      "metadata": {
        "id": "UniBIfdfefhL"
      },
      "source": [
        "we split the four character string into a column for each character"
      ]
    },
    {
      "cell_type": "code",
      "metadata": {
        "id": "_jKoJ04tjVyz"
      },
      "source": [
        "data_train_split = data_train['Sequence'].str.split('', n=4, expand=True).drop(columns=0)\n",
        "data_test_split = data_test['Sequence'].str.split('', n=4, expand=True).drop(columns=0)"
      ],
      "execution_count": 9,
      "outputs": []
    },
    {
      "cell_type": "markdown",
      "metadata": {
        "id": "BlspUba5e2dc"
      },
      "source": [
        "use one-hot encoding to obtain numerical inputs "
      ]
    },
    {
      "cell_type": "code",
      "metadata": {
        "id": "ULcUqXuN3TKf"
      },
      "source": [
        "data_train_encoded = pd.get_dummies(data_train_split, columns=[1,2,3,4])\n",
        "data_test_encoded = pd.get_dummies(data_test_split)"
      ],
      "execution_count": 10,
      "outputs": []
    },
    {
      "cell_type": "markdown",
      "metadata": {
        "id": "hSweo24BfR9_"
      },
      "source": [
        "set up the final arrays for training"
      ]
    },
    {
      "cell_type": "code",
      "metadata": {
        "id": "ceW-RLpsIA4x"
      },
      "source": [
        "train_X = data_train_encoded.to_numpy()\n",
        "train_y = data_train['Active'].to_numpy()"
      ],
      "execution_count": 11,
      "outputs": []
    },
    {
      "cell_type": "markdown",
      "metadata": {
        "id": "ldE845KA0Olt"
      },
      "source": [
        "# Fixing Class inbalance"
      ]
    },
    {
      "cell_type": "code",
      "metadata": {
        "colab": {
          "base_uri": "https://localhost:8080/"
        },
        "id": "e0v8HPTE0NNy",
        "outputId": "79f34893-331b-40da-a313-7e3c87e86b14"
      },
      "source": [
        "import imblearn\n",
        "from imblearn.over_sampling import RandomOverSampler\n",
        "\n",
        "ros = RandomOverSampler()\n",
        "X_ros, y_ros = ros.fit_sample(train_X, train_y)\n",
        "\n",
        "clf_ros = MLPClassifier(random_state=1, max_iter=300, verbose=1).fit(X_ros, y_ros)\n",
        "print(f'The final f1 score is: {f1_score(y_ros, clf_ros.predict(X_ros))}.')"
      ],
      "execution_count": 18,
      "outputs": [
        {
          "output_type": "stream",
          "text": [
            "/usr/local/lib/python3.7/dist-packages/sklearn/utils/deprecation.py:87: FutureWarning: Function safe_indexing is deprecated; safe_indexing is deprecated in version 0.22 and will be removed in version 0.24.\n",
            "  warnings.warn(msg, category=FutureWarning)\n"
          ],
          "name": "stderr"
        },
        {
          "output_type": "stream",
          "text": [
            "Iteration 1, loss = 0.17128202\n",
            "Iteration 2, loss = 0.07166645\n",
            "Iteration 3, loss = 0.05092446\n",
            "Iteration 4, loss = 0.04091466\n",
            "Iteration 5, loss = 0.03454486\n",
            "Iteration 6, loss = 0.03010552\n",
            "Iteration 7, loss = 0.02672055\n",
            "Iteration 8, loss = 0.02405209\n",
            "Iteration 9, loss = 0.02182067\n",
            "Iteration 10, loss = 0.02003409\n",
            "Iteration 11, loss = 0.01844899\n",
            "Iteration 12, loss = 0.01704382\n",
            "Iteration 13, loss = 0.01600152\n",
            "Iteration 14, loss = 0.01484300\n",
            "Iteration 15, loss = 0.01389706\n",
            "Iteration 16, loss = 0.01303608\n",
            "Iteration 17, loss = 0.01217944\n",
            "Iteration 18, loss = 0.01148039\n",
            "Iteration 19, loss = 0.01092381\n",
            "Iteration 20, loss = 0.01034369\n",
            "Iteration 21, loss = 0.00971937\n",
            "Iteration 22, loss = 0.00919187\n",
            "Iteration 23, loss = 0.00869920\n",
            "Iteration 24, loss = 0.00829945\n",
            "Iteration 25, loss = 0.00792337\n",
            "Iteration 26, loss = 0.00747846\n",
            "Iteration 27, loss = 0.00717342\n",
            "Iteration 28, loss = 0.00682790\n",
            "Iteration 29, loss = 0.00642974\n",
            "Iteration 30, loss = 0.00616719\n",
            "Iteration 31, loss = 0.00587850\n",
            "Iteration 32, loss = 0.00561104\n",
            "Iteration 33, loss = 0.00537974\n",
            "Iteration 34, loss = 0.00512541\n",
            "Iteration 35, loss = 0.00493119\n",
            "Iteration 36, loss = 0.00469811\n",
            "Iteration 37, loss = 0.00449358\n",
            "Iteration 38, loss = 0.00427094\n",
            "Iteration 39, loss = 0.00412629\n",
            "Iteration 40, loss = 0.00401746\n",
            "Iteration 41, loss = 0.00380561\n",
            "Iteration 42, loss = 0.00362057\n",
            "Iteration 43, loss = 0.00350176\n",
            "Iteration 44, loss = 0.00333582\n",
            "Iteration 45, loss = 0.00331886\n",
            "Iteration 46, loss = 0.00305572\n",
            "Iteration 47, loss = 0.00299311\n",
            "Iteration 48, loss = 0.00287866\n",
            "Iteration 49, loss = 0.00279060\n",
            "Iteration 50, loss = 0.00272024\n",
            "Iteration 51, loss = 0.00254464\n",
            "Iteration 52, loss = 0.00252394\n",
            "Iteration 53, loss = 0.00238860\n",
            "Iteration 54, loss = 0.00238594\n",
            "Iteration 55, loss = 0.00225666\n",
            "Iteration 56, loss = 0.00217614\n",
            "Iteration 57, loss = 0.00216935\n",
            "Iteration 58, loss = 0.00210637\n",
            "Iteration 59, loss = 0.00202786\n",
            "Iteration 60, loss = 0.00200485\n",
            "Iteration 61, loss = 0.00190169\n",
            "Iteration 62, loss = 0.00187163\n",
            "Iteration 63, loss = 0.00179178\n",
            "Iteration 64, loss = 0.00176998\n",
            "Iteration 65, loss = 0.00175826\n",
            "Iteration 66, loss = 0.00170154\n",
            "Iteration 67, loss = 0.00162055\n",
            "Iteration 68, loss = 0.00164980\n",
            "Iteration 69, loss = 0.00164875\n",
            "Iteration 70, loss = 0.00150490\n",
            "Iteration 71, loss = 0.00156720\n",
            "Iteration 72, loss = 0.00147935\n",
            "Iteration 73, loss = 0.00149960\n",
            "Iteration 74, loss = 0.00146250\n",
            "Iteration 75, loss = 0.00143644\n",
            "Iteration 76, loss = 0.00140421\n",
            "Iteration 77, loss = 0.00138908\n",
            "Iteration 78, loss = 0.00136384\n",
            "Iteration 79, loss = 0.00140729\n",
            "Iteration 80, loss = 0.00131812\n",
            "Iteration 81, loss = 0.00133179\n",
            "Training loss did not improve more than tol=0.000100 for 10 consecutive epochs. Stopping.\n",
            "The final f1 score is: 0.9998700997448388.\n"
          ],
          "name": "stdout"
        }
      ]
    },
    {
      "cell_type": "code",
      "metadata": {
        "id": "SY2pOHbA1m9L"
      },
      "source": [
        "test_X = data_test_encoded.to_numpy()\n",
        "y_pred = clf_ros.predict(test_X)"
      ],
      "execution_count": 19,
      "outputs": []
    },
    {
      "cell_type": "code",
      "metadata": {
        "id": "g2IgvZKe1vGI"
      },
      "source": [
        "submission = pd.DataFrame(y_pred).to_csv('submission.csv', index=False, header=False)"
      ],
      "execution_count": 21,
      "outputs": []
    },
    {
      "cell_type": "markdown",
      "metadata": {
        "id": "xAjM0TTX0TIv"
      },
      "source": [
        "## Make Classification"
      ]
    },
    {
      "cell_type": "code",
      "metadata": {
        "colab": {
          "base_uri": "https://localhost:8080/"
        },
        "id": "Z5rWjbTcIDac",
        "outputId": "b8dc24d5-888a-4226-a9fb-fc1d93e39cac"
      },
      "source": [
        "clf = MLPClassifier(random_state=1, max_iter=300, verbose=1).fit(train_X, train_y)"
      ],
      "execution_count": null,
      "outputs": [
        {
          "output_type": "stream",
          "text": [
            "Iteration 1, loss = 0.13439259\n",
            "Iteration 2, loss = 0.05907202\n",
            "Iteration 3, loss = 0.04832384\n",
            "Iteration 4, loss = 0.04117785\n",
            "Iteration 5, loss = 0.03576173\n",
            "Iteration 6, loss = 0.03171621\n",
            "Iteration 7, loss = 0.02859062\n",
            "Iteration 8, loss = 0.02615462\n",
            "Iteration 9, loss = 0.02404762\n",
            "Iteration 10, loss = 0.02249407\n",
            "Iteration 11, loss = 0.02117560\n",
            "Iteration 12, loss = 0.02000660\n",
            "Iteration 13, loss = 0.01902917\n",
            "Iteration 14, loss = 0.01823088\n",
            "Iteration 15, loss = 0.01748776\n",
            "Iteration 16, loss = 0.01667282\n",
            "Iteration 17, loss = 0.01605070\n",
            "Iteration 18, loss = 0.01544006\n",
            "Iteration 19, loss = 0.01484580\n",
            "Iteration 20, loss = 0.01435889\n",
            "Iteration 21, loss = 0.01390077\n",
            "Iteration 22, loss = 0.01333933\n",
            "Iteration 23, loss = 0.01295574\n",
            "Iteration 24, loss = 0.01251557\n",
            "Iteration 25, loss = 0.01213322\n",
            "Iteration 26, loss = 0.01184814\n",
            "Iteration 27, loss = 0.01141843\n",
            "Iteration 28, loss = 0.01116946\n",
            "Iteration 29, loss = 0.01076511\n",
            "Iteration 30, loss = 0.01056664\n",
            "Iteration 31, loss = 0.01010689\n",
            "Iteration 32, loss = 0.00986065\n",
            "Iteration 33, loss = 0.00955466\n",
            "Iteration 34, loss = 0.00935484\n",
            "Iteration 35, loss = 0.00902791\n",
            "Iteration 36, loss = 0.00880701\n",
            "Iteration 37, loss = 0.00857674\n",
            "Iteration 38, loss = 0.00830788\n",
            "Iteration 39, loss = 0.00804279\n",
            "Iteration 40, loss = 0.00788667\n",
            "Iteration 41, loss = 0.00764911\n",
            "Iteration 42, loss = 0.00743154\n",
            "Iteration 43, loss = 0.00721394\n",
            "Iteration 44, loss = 0.00701600\n",
            "Iteration 45, loss = 0.00694522\n",
            "Iteration 46, loss = 0.00673068\n",
            "Iteration 47, loss = 0.00658097\n",
            "Iteration 48, loss = 0.00635865\n",
            "Iteration 49, loss = 0.00619520\n",
            "Iteration 50, loss = 0.00606241\n",
            "Iteration 51, loss = 0.00586205\n",
            "Iteration 52, loss = 0.00574478\n",
            "Iteration 53, loss = 0.00560088\n",
            "Iteration 54, loss = 0.00546283\n",
            "Iteration 55, loss = 0.00541601\n",
            "Iteration 56, loss = 0.00519782\n",
            "Iteration 57, loss = 0.00500600\n",
            "Iteration 58, loss = 0.00493984\n",
            "Iteration 59, loss = 0.00487279\n",
            "Iteration 60, loss = 0.00465466\n",
            "Iteration 61, loss = 0.00459501\n",
            "Iteration 62, loss = 0.00451148\n",
            "Iteration 63, loss = 0.00431769\n",
            "Iteration 64, loss = 0.00422012\n",
            "Iteration 65, loss = 0.00416563\n",
            "Iteration 66, loss = 0.00403829\n",
            "Iteration 67, loss = 0.00391529\n",
            "Iteration 68, loss = 0.00384861\n",
            "Iteration 69, loss = 0.00378977\n",
            "Iteration 70, loss = 0.00356960\n",
            "Iteration 71, loss = 0.00362191\n",
            "Iteration 72, loss = 0.00345193\n",
            "Iteration 73, loss = 0.00332524\n",
            "Iteration 74, loss = 0.00330092\n",
            "Iteration 75, loss = 0.00321631\n",
            "Iteration 76, loss = 0.00310599\n",
            "Iteration 77, loss = 0.00311976\n",
            "Iteration 78, loss = 0.00298807\n",
            "Iteration 79, loss = 0.00285360\n",
            "Iteration 80, loss = 0.00286888\n",
            "Iteration 81, loss = 0.00271937\n",
            "Iteration 82, loss = 0.00270061\n",
            "Iteration 83, loss = 0.00267479\n",
            "Iteration 84, loss = 0.00258921\n",
            "Iteration 85, loss = 0.00253490\n",
            "Iteration 86, loss = 0.00241767\n",
            "Iteration 87, loss = 0.00240299\n",
            "Iteration 88, loss = 0.00239218\n",
            "Iteration 89, loss = 0.00223957\n",
            "Iteration 90, loss = 0.00221180\n",
            "Iteration 91, loss = 0.00227235\n",
            "Iteration 92, loss = 0.00216273\n",
            "Iteration 93, loss = 0.00207484\n",
            "Iteration 94, loss = 0.00210077\n",
            "Iteration 95, loss = 0.00201141\n",
            "Iteration 96, loss = 0.00195959\n",
            "Iteration 97, loss = 0.00194147\n",
            "Iteration 98, loss = 0.00195184\n",
            "Iteration 99, loss = 0.00185770\n",
            "Iteration 100, loss = 0.00185051\n",
            "Training loss did not improve more than tol=0.000100 for 10 consecutive epochs. Stopping.\n"
          ],
          "name": "stdout"
        }
      ]
    },
    {
      "cell_type": "code",
      "metadata": {
        "colab": {
          "base_uri": "https://localhost:8080/"
        },
        "id": "OcAbTZXyJ8X4",
        "outputId": "3f71bc58-7da2-4a3f-edec-82cfbcd22024"
      },
      "source": [
        "print(f'The final f1 score is: {f1_score(train_y, clf.predict(train_X))}.')"
      ],
      "execution_count": null,
      "outputs": [
        {
          "output_type": "stream",
          "text": [
            "0.9995255041518387\n"
          ],
          "name": "stdout"
        }
      ]
    },
    {
      "cell_type": "markdown",
      "metadata": {
        "id": "tbqq4rf0flBM"
      },
      "source": [
        "use model to predict for our test data"
      ]
    },
    {
      "cell_type": "code",
      "metadata": {
        "id": "v5SsYZ6HNrO4"
      },
      "source": [
        "test_X = data_test_encoded.to_numpy()\n",
        "y_pred = clf.predict(test_X)"
      ],
      "execution_count": null,
      "outputs": []
    },
    {
      "cell_type": "markdown",
      "metadata": {
        "id": "3mGLRJ5lfs6A"
      },
      "source": [
        "export prediction to csv file"
      ]
    },
    {
      "cell_type": "code",
      "metadata": {
        "id": "TjRZVCa2OEFM"
      },
      "source": [
        "submission = pd.DataFrame(y_pred).to_csv('submission.csv', index=False, header=False)"
      ],
      "execution_count": null,
      "outputs": []
    }
  ]
}