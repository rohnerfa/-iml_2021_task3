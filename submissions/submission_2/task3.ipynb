{
  "nbformat": 4,
  "nbformat_minor": 0,
  "metadata": {
    "colab": {
      "name": "task3.ipynb",
      "provenance": [],
      "toc_visible": true
    },
    "kernelspec": {
      "display_name": "Python 3",
      "name": "python3"
    },
    "language_info": {
      "name": "python"
    }
  },
  "cells": [
    {
      "cell_type": "code",
      "metadata": {
        "id": "ZWRjbO30ibWO",
        "colab": {
          "base_uri": "https://localhost:8080/"
        },
        "outputId": "ea6f160d-1ca3-4860-8192-9313339d811b"
      },
      "source": [
        "\n",
        "from google.colab import drive\n",
        "drive.mount('/content/drive/')"
      ],
      "execution_count": 2,
      "outputs": [
        {
          "output_type": "stream",
          "text": [
            "Mounted at /content/drive/\n"
          ],
          "name": "stdout"
        }
      ]
    },
    {
      "cell_type": "code",
      "metadata": {
        "id": "R3TM0pFEi8B9"
      },
      "source": [
        "import pandas as pd\n",
        "import numpy as np\n",
        "\n",
        "from sklearn.neural_network import MLPClassifier\n",
        "from sklearn.metrics import f1_score"
      ],
      "execution_count": 3,
      "outputs": []
    },
    {
      "cell_type": "markdown",
      "metadata": {
        "id": "K5amDFsfeOH1"
      },
      "source": [
        "# Importing data and setting up DataFrames for classification"
      ]
    },
    {
      "cell_type": "code",
      "metadata": {
        "id": "11uwNF8ai-OK"
      },
      "source": [
        "data_train = pd.read_csv('/content/drive/MyDrive/ml_task_3/train.csv')\n",
        "data_test = pd.read_csv('/content/drive/MyDrive/ml_task_3/test.csv')"
      ],
      "execution_count": 4,
      "outputs": []
    },
    {
      "cell_type": "code",
      "metadata": {
        "colab": {
          "base_uri": "https://localhost:8080/"
        },
        "id": "kZRgit0L1zKF",
        "outputId": "505795b2-1237-4f66-87ed-102f304ccdad"
      },
      "source": [
        "data_train.head"
      ],
      "execution_count": 7,
      "outputs": [
        {
          "output_type": "execute_result",
          "data": {
            "text/plain": [
              "<bound method NDFrame.head of        Sequence  Active\n",
              "0          DKWL       0\n",
              "1          FCHN       0\n",
              "2          KDQP       0\n",
              "3          FNWI       0\n",
              "4          NKRM       0\n",
              "...         ...     ...\n",
              "111995     GSME       0\n",
              "111996     DLPT       0\n",
              "111997     SGHC       0\n",
              "111998     KIGT       0\n",
              "111999     PGPT       0\n",
              "\n",
              "[112000 rows x 2 columns]>"
            ]
          },
          "metadata": {
            "tags": []
          },
          "execution_count": 7
        }
      ]
    },
    {
      "cell_type": "markdown",
      "metadata": {
        "id": "UniBIfdfefhL"
      },
      "source": [
        "we split the four character string into a column for each character"
      ]
    },
    {
      "cell_type": "code",
      "metadata": {
        "id": "_jKoJ04tjVyz"
      },
      "source": [
        "data_train_split = data_train['Sequence'].str.split('', n=4, expand=True).drop(columns=0)\n",
        "data_test_split = data_test['Sequence'].str.split('', n=4, expand=True).drop(columns=0)"
      ],
      "execution_count": 9,
      "outputs": []
    },
    {
      "cell_type": "markdown",
      "metadata": {
        "id": "BlspUba5e2dc"
      },
      "source": [
        "use one-hot encoding to obtain numerical inputs "
      ]
    },
    {
      "cell_type": "code",
      "metadata": {
        "id": "ULcUqXuN3TKf"
      },
      "source": [
        "data_train_encoded = pd.get_dummies(data_train_split, columns=[1,2,3,4])\n",
        "data_test_encoded = pd.get_dummies(data_test_split)"
      ],
      "execution_count": 10,
      "outputs": []
    },
    {
      "cell_type": "markdown",
      "metadata": {
        "id": "hSweo24BfR9_"
      },
      "source": [
        "set up the final arrays for training"
      ]
    },
    {
      "cell_type": "code",
      "metadata": {
        "id": "ceW-RLpsIA4x"
      },
      "source": [
        "train_X = data_train_encoded.to_numpy()\n",
        "train_y = data_train['Active'].to_numpy()"
      ],
      "execution_count": 11,
      "outputs": []
    },
    {
      "cell_type": "markdown",
      "metadata": {
        "id": "ldE845KA0Olt"
      },
      "source": [
        "# Fixing Class inbalance"
      ]
    },
    {
      "cell_type": "code",
      "metadata": {
        "colab": {
          "base_uri": "https://localhost:8080/"
        },
        "id": "e0v8HPTE0NNy",
        "outputId": "2efba03c-2404-423e-ccd9-00221e9e6119"
      },
      "source": [
        "import imblearn\n",
        "from imblearn.under_sampling import RandomUnderSampler\n",
        "\n",
        "rus = RandomUnderSampler(return_indices=True)\n",
        "X_rus, y_rus, id_rus = rus.fit_sample(train_X, train_y)\n",
        "\n",
        "clf_rus = MLPClassifier(random_state=1, max_iter=300, verbose=1).fit(X_rus, y_rus)\n",
        "print(f'The final f1 score is: {f1_score(y_rus, clf_rus.predict(X_rus))}.')"
      ],
      "execution_count": 13,
      "outputs": [
        {
          "output_type": "stream",
          "text": [
            "/usr/local/lib/python3.7/dist-packages/sklearn/utils/deprecation.py:87: FutureWarning: Function safe_indexing is deprecated; safe_indexing is deprecated in version 0.22 and will be removed in version 0.24.\n",
            "  warnings.warn(msg, category=FutureWarning)\n"
          ],
          "name": "stderr"
        },
        {
          "output_type": "stream",
          "text": [
            "Iteration 1, loss = 0.61855405\n",
            "Iteration 2, loss = 0.43126994\n",
            "Iteration 3, loss = 0.28207690\n",
            "Iteration 4, loss = 0.22041696\n",
            "Iteration 5, loss = 0.19441876\n",
            "Iteration 6, loss = 0.17915936\n",
            "Iteration 7, loss = 0.16847914\n",
            "Iteration 8, loss = 0.16009271\n",
            "Iteration 9, loss = 0.15180866\n",
            "Iteration 10, loss = 0.14528968\n",
            "Iteration 11, loss = 0.13909775\n",
            "Iteration 12, loss = 0.13297058\n",
            "Iteration 13, loss = 0.12781596\n",
            "Iteration 14, loss = 0.12278211\n",
            "Iteration 15, loss = 0.11806374\n",
            "Iteration 16, loss = 0.11352192\n",
            "Iteration 17, loss = 0.10949146\n",
            "Iteration 18, loss = 0.10505713\n",
            "Iteration 19, loss = 0.10161704\n",
            "Iteration 20, loss = 0.09770687\n",
            "Iteration 21, loss = 0.09451597\n",
            "Iteration 22, loss = 0.09115319\n",
            "Iteration 23, loss = 0.08816252\n",
            "Iteration 24, loss = 0.08520545\n",
            "Iteration 25, loss = 0.08236416\n",
            "Iteration 26, loss = 0.07969464\n",
            "Iteration 27, loss = 0.07749298\n",
            "Iteration 28, loss = 0.07498715\n",
            "Iteration 29, loss = 0.07274697\n",
            "Iteration 30, loss = 0.07081233\n",
            "Iteration 31, loss = 0.06927236\n",
            "Iteration 32, loss = 0.06669099\n",
            "Iteration 33, loss = 0.06494155\n",
            "Iteration 34, loss = 0.06306594\n",
            "Iteration 35, loss = 0.06137967\n",
            "Iteration 36, loss = 0.05965955\n",
            "Iteration 37, loss = 0.05811581\n",
            "Iteration 38, loss = 0.05670872\n",
            "Iteration 39, loss = 0.05520323\n",
            "Iteration 40, loss = 0.05348623\n",
            "Iteration 41, loss = 0.05254485\n",
            "Iteration 42, loss = 0.05131049\n",
            "Iteration 43, loss = 0.04968602\n",
            "Iteration 44, loss = 0.04850553\n",
            "Iteration 45, loss = 0.04724445\n",
            "Iteration 46, loss = 0.04615693\n",
            "Iteration 47, loss = 0.04489142\n",
            "Iteration 48, loss = 0.04404591\n",
            "Iteration 49, loss = 0.04295187\n",
            "Iteration 50, loss = 0.04174020\n",
            "Iteration 51, loss = 0.04070989\n",
            "Iteration 52, loss = 0.03964634\n",
            "Iteration 53, loss = 0.03898011\n",
            "Iteration 54, loss = 0.03785410\n",
            "Iteration 55, loss = 0.03697972\n",
            "Iteration 56, loss = 0.03622557\n",
            "Iteration 57, loss = 0.03540893\n",
            "Iteration 58, loss = 0.03454433\n",
            "Iteration 59, loss = 0.03403147\n",
            "Iteration 60, loss = 0.03332608\n",
            "Iteration 61, loss = 0.03191718\n",
            "Iteration 62, loss = 0.03149406\n",
            "Iteration 63, loss = 0.03086178\n",
            "Iteration 64, loss = 0.03009642\n",
            "Iteration 65, loss = 0.02924798\n",
            "Iteration 66, loss = 0.02862116\n",
            "Iteration 67, loss = 0.02797466\n",
            "Iteration 68, loss = 0.02733281\n",
            "Iteration 69, loss = 0.02693123\n",
            "Iteration 70, loss = 0.02602813\n",
            "Iteration 71, loss = 0.02554561\n",
            "Iteration 72, loss = 0.02496528\n",
            "Iteration 73, loss = 0.02466764\n",
            "Iteration 74, loss = 0.02377174\n",
            "Iteration 75, loss = 0.02351935\n",
            "Iteration 76, loss = 0.02271524\n",
            "Iteration 77, loss = 0.02219625\n",
            "Iteration 78, loss = 0.02183736\n",
            "Iteration 79, loss = 0.02141704\n",
            "Iteration 80, loss = 0.02127185\n",
            "Iteration 81, loss = 0.02067673\n",
            "Iteration 82, loss = 0.01994245\n",
            "Iteration 83, loss = 0.01935902\n",
            "Iteration 84, loss = 0.01938477\n",
            "Iteration 85, loss = 0.01875057\n",
            "Iteration 86, loss = 0.01835446\n",
            "Iteration 87, loss = 0.01806516\n",
            "Iteration 88, loss = 0.01746088\n",
            "Iteration 89, loss = 0.01703545\n",
            "Iteration 90, loss = 0.01667260\n",
            "Iteration 91, loss = 0.01638976\n",
            "Iteration 92, loss = 0.01636550\n",
            "Iteration 93, loss = 0.01573925\n",
            "Iteration 94, loss = 0.01541547\n",
            "Iteration 95, loss = 0.01496577\n",
            "Iteration 96, loss = 0.01509003\n",
            "Iteration 97, loss = 0.01532265\n",
            "Iteration 98, loss = 0.01418670\n",
            "Iteration 99, loss = 0.01415033\n",
            "Iteration 100, loss = 0.01359886\n",
            "Iteration 101, loss = 0.01318105\n",
            "Iteration 102, loss = 0.01298254\n",
            "Iteration 103, loss = 0.01254290\n",
            "Iteration 104, loss = 0.01234485\n",
            "Iteration 105, loss = 0.01211142\n",
            "Iteration 106, loss = 0.01182074\n",
            "Iteration 107, loss = 0.01170436\n",
            "Iteration 108, loss = 0.01151085\n",
            "Iteration 109, loss = 0.01115880\n",
            "Iteration 110, loss = 0.01087452\n",
            "Iteration 111, loss = 0.01069137\n",
            "Iteration 112, loss = 0.01052604\n",
            "Iteration 113, loss = 0.01023460\n",
            "Iteration 114, loss = 0.01002632\n",
            "Iteration 115, loss = 0.00988143\n",
            "Iteration 116, loss = 0.00963154\n",
            "Iteration 117, loss = 0.00939051\n",
            "Iteration 118, loss = 0.00922389\n",
            "Iteration 119, loss = 0.00905153\n",
            "Iteration 120, loss = 0.00887829\n",
            "Iteration 121, loss = 0.00927673\n",
            "Iteration 122, loss = 0.00853856\n",
            "Iteration 123, loss = 0.00841775\n",
            "Iteration 124, loss = 0.00824891\n",
            "Iteration 125, loss = 0.00803311\n",
            "Iteration 126, loss = 0.00791532\n",
            "Iteration 127, loss = 0.00771852\n",
            "Iteration 128, loss = 0.00749770\n",
            "Iteration 129, loss = 0.00752593\n",
            "Iteration 130, loss = 0.00722514\n",
            "Iteration 131, loss = 0.00709513\n",
            "Iteration 132, loss = 0.00696303\n",
            "Iteration 133, loss = 0.00686409\n",
            "Iteration 134, loss = 0.00665163\n",
            "Iteration 135, loss = 0.00661464\n",
            "Iteration 136, loss = 0.00648932\n",
            "Iteration 137, loss = 0.00632938\n",
            "Iteration 138, loss = 0.00642424\n",
            "Iteration 139, loss = 0.00608170\n",
            "Iteration 140, loss = 0.00590261\n",
            "Iteration 141, loss = 0.00580513\n",
            "Iteration 142, loss = 0.00593892\n",
            "Iteration 143, loss = 0.00578906\n",
            "Iteration 144, loss = 0.00563887\n",
            "Iteration 145, loss = 0.00589810\n",
            "Iteration 146, loss = 0.00531184\n",
            "Iteration 147, loss = 0.00514862\n",
            "Iteration 148, loss = 0.00513593\n",
            "Iteration 149, loss = 0.00499354\n",
            "Iteration 150, loss = 0.00486065\n",
            "Iteration 151, loss = 0.00476376\n",
            "Iteration 152, loss = 0.00472450\n",
            "Iteration 153, loss = 0.00460331\n",
            "Iteration 154, loss = 0.00494750\n",
            "Iteration 155, loss = 0.00452166\n",
            "Iteration 156, loss = 0.00434630\n",
            "Iteration 157, loss = 0.00504669\n",
            "Iteration 158, loss = 0.00423430\n",
            "Iteration 159, loss = 0.00413025\n",
            "Iteration 160, loss = 0.00401828\n",
            "Iteration 161, loss = 0.00396567\n",
            "Iteration 162, loss = 0.00391338\n",
            "Iteration 163, loss = 0.00385777\n",
            "Iteration 164, loss = 0.00372332\n",
            "Iteration 165, loss = 0.00369214\n",
            "Iteration 166, loss = 0.00374949\n",
            "Iteration 167, loss = 0.00358690\n",
            "Iteration 168, loss = 0.00354801\n",
            "Iteration 169, loss = 0.00352603\n",
            "Iteration 170, loss = 0.00333721\n",
            "Iteration 171, loss = 0.00330092\n",
            "Iteration 172, loss = 0.00327559\n",
            "Iteration 173, loss = 0.00320156\n",
            "Iteration 174, loss = 0.00312906\n",
            "Iteration 175, loss = 0.00336527\n",
            "Iteration 176, loss = 0.00305375\n",
            "Iteration 177, loss = 0.00312438\n",
            "Iteration 178, loss = 0.00298592\n",
            "Iteration 179, loss = 0.00288008\n",
            "Iteration 180, loss = 0.00282689\n",
            "Iteration 181, loss = 0.00278157\n",
            "Iteration 182, loss = 0.00299608\n",
            "Iteration 183, loss = 0.00266854\n",
            "Iteration 184, loss = 0.00264242\n",
            "Iteration 185, loss = 0.00258934\n",
            "Iteration 186, loss = 0.00251782\n",
            "Iteration 187, loss = 0.00247877\n",
            "Iteration 188, loss = 0.00244343\n",
            "Iteration 189, loss = 0.00245497\n",
            "Iteration 190, loss = 0.00237465\n",
            "Iteration 191, loss = 0.00232925\n",
            "Iteration 192, loss = 0.00230470\n",
            "Iteration 193, loss = 0.00227372\n",
            "Iteration 194, loss = 0.00222314\n",
            "Training loss did not improve more than tol=0.000100 for 10 consecutive epochs. Stopping.\n",
            "The final f1 score is: 1.0.\n"
          ],
          "name": "stdout"
        }
      ]
    },
    {
      "cell_type": "code",
      "metadata": {
        "id": "SY2pOHbA1m9L"
      },
      "source": [
        "test_X = data_test_encoded.to_numpy()\n",
        "y_pred = clf_rus.predict(test_X)"
      ],
      "execution_count": 14,
      "outputs": []
    },
    {
      "cell_type": "code",
      "metadata": {
        "id": "g2IgvZKe1vGI"
      },
      "source": [
        "submission = pd.DataFrame(y_pred).to_csv('submission.csv', index=False, header=False)"
      ],
      "execution_count": 15,
      "outputs": []
    },
    {
      "cell_type": "markdown",
      "metadata": {
        "id": "xAjM0TTX0TIv"
      },
      "source": [
        "## Make Classification"
      ]
    },
    {
      "cell_type": "code",
      "metadata": {
        "colab": {
          "base_uri": "https://localhost:8080/"
        },
        "id": "Z5rWjbTcIDac",
        "outputId": "b8dc24d5-888a-4226-a9fb-fc1d93e39cac"
      },
      "source": [
        "clf = MLPClassifier(random_state=1, max_iter=300, verbose=1).fit(train_X, train_y)"
      ],
      "execution_count": null,
      "outputs": [
        {
          "output_type": "stream",
          "text": [
            "Iteration 1, loss = 0.13439259\n",
            "Iteration 2, loss = 0.05907202\n",
            "Iteration 3, loss = 0.04832384\n",
            "Iteration 4, loss = 0.04117785\n",
            "Iteration 5, loss = 0.03576173\n",
            "Iteration 6, loss = 0.03171621\n",
            "Iteration 7, loss = 0.02859062\n",
            "Iteration 8, loss = 0.02615462\n",
            "Iteration 9, loss = 0.02404762\n",
            "Iteration 10, loss = 0.02249407\n",
            "Iteration 11, loss = 0.02117560\n",
            "Iteration 12, loss = 0.02000660\n",
            "Iteration 13, loss = 0.01902917\n",
            "Iteration 14, loss = 0.01823088\n",
            "Iteration 15, loss = 0.01748776\n",
            "Iteration 16, loss = 0.01667282\n",
            "Iteration 17, loss = 0.01605070\n",
            "Iteration 18, loss = 0.01544006\n",
            "Iteration 19, loss = 0.01484580\n",
            "Iteration 20, loss = 0.01435889\n",
            "Iteration 21, loss = 0.01390077\n",
            "Iteration 22, loss = 0.01333933\n",
            "Iteration 23, loss = 0.01295574\n",
            "Iteration 24, loss = 0.01251557\n",
            "Iteration 25, loss = 0.01213322\n",
            "Iteration 26, loss = 0.01184814\n",
            "Iteration 27, loss = 0.01141843\n",
            "Iteration 28, loss = 0.01116946\n",
            "Iteration 29, loss = 0.01076511\n",
            "Iteration 30, loss = 0.01056664\n",
            "Iteration 31, loss = 0.01010689\n",
            "Iteration 32, loss = 0.00986065\n",
            "Iteration 33, loss = 0.00955466\n",
            "Iteration 34, loss = 0.00935484\n",
            "Iteration 35, loss = 0.00902791\n",
            "Iteration 36, loss = 0.00880701\n",
            "Iteration 37, loss = 0.00857674\n",
            "Iteration 38, loss = 0.00830788\n",
            "Iteration 39, loss = 0.00804279\n",
            "Iteration 40, loss = 0.00788667\n",
            "Iteration 41, loss = 0.00764911\n",
            "Iteration 42, loss = 0.00743154\n",
            "Iteration 43, loss = 0.00721394\n",
            "Iteration 44, loss = 0.00701600\n",
            "Iteration 45, loss = 0.00694522\n",
            "Iteration 46, loss = 0.00673068\n",
            "Iteration 47, loss = 0.00658097\n",
            "Iteration 48, loss = 0.00635865\n",
            "Iteration 49, loss = 0.00619520\n",
            "Iteration 50, loss = 0.00606241\n",
            "Iteration 51, loss = 0.00586205\n",
            "Iteration 52, loss = 0.00574478\n",
            "Iteration 53, loss = 0.00560088\n",
            "Iteration 54, loss = 0.00546283\n",
            "Iteration 55, loss = 0.00541601\n",
            "Iteration 56, loss = 0.00519782\n",
            "Iteration 57, loss = 0.00500600\n",
            "Iteration 58, loss = 0.00493984\n",
            "Iteration 59, loss = 0.00487279\n",
            "Iteration 60, loss = 0.00465466\n",
            "Iteration 61, loss = 0.00459501\n",
            "Iteration 62, loss = 0.00451148\n",
            "Iteration 63, loss = 0.00431769\n",
            "Iteration 64, loss = 0.00422012\n",
            "Iteration 65, loss = 0.00416563\n",
            "Iteration 66, loss = 0.00403829\n",
            "Iteration 67, loss = 0.00391529\n",
            "Iteration 68, loss = 0.00384861\n",
            "Iteration 69, loss = 0.00378977\n",
            "Iteration 70, loss = 0.00356960\n",
            "Iteration 71, loss = 0.00362191\n",
            "Iteration 72, loss = 0.00345193\n",
            "Iteration 73, loss = 0.00332524\n",
            "Iteration 74, loss = 0.00330092\n",
            "Iteration 75, loss = 0.00321631\n",
            "Iteration 76, loss = 0.00310599\n",
            "Iteration 77, loss = 0.00311976\n",
            "Iteration 78, loss = 0.00298807\n",
            "Iteration 79, loss = 0.00285360\n",
            "Iteration 80, loss = 0.00286888\n",
            "Iteration 81, loss = 0.00271937\n",
            "Iteration 82, loss = 0.00270061\n",
            "Iteration 83, loss = 0.00267479\n",
            "Iteration 84, loss = 0.00258921\n",
            "Iteration 85, loss = 0.00253490\n",
            "Iteration 86, loss = 0.00241767\n",
            "Iteration 87, loss = 0.00240299\n",
            "Iteration 88, loss = 0.00239218\n",
            "Iteration 89, loss = 0.00223957\n",
            "Iteration 90, loss = 0.00221180\n",
            "Iteration 91, loss = 0.00227235\n",
            "Iteration 92, loss = 0.00216273\n",
            "Iteration 93, loss = 0.00207484\n",
            "Iteration 94, loss = 0.00210077\n",
            "Iteration 95, loss = 0.00201141\n",
            "Iteration 96, loss = 0.00195959\n",
            "Iteration 97, loss = 0.00194147\n",
            "Iteration 98, loss = 0.00195184\n",
            "Iteration 99, loss = 0.00185770\n",
            "Iteration 100, loss = 0.00185051\n",
            "Training loss did not improve more than tol=0.000100 for 10 consecutive epochs. Stopping.\n"
          ],
          "name": "stdout"
        }
      ]
    },
    {
      "cell_type": "code",
      "metadata": {
        "colab": {
          "base_uri": "https://localhost:8080/"
        },
        "id": "OcAbTZXyJ8X4",
        "outputId": "3f71bc58-7da2-4a3f-edec-82cfbcd22024"
      },
      "source": [
        "print(f'The final f1 score is: {f1_score(train_y, clf.predict(train_X))}.')"
      ],
      "execution_count": null,
      "outputs": [
        {
          "output_type": "stream",
          "text": [
            "0.9995255041518387\n"
          ],
          "name": "stdout"
        }
      ]
    },
    {
      "cell_type": "markdown",
      "metadata": {
        "id": "tbqq4rf0flBM"
      },
      "source": [
        "use model to predict for our test data"
      ]
    },
    {
      "cell_type": "code",
      "metadata": {
        "id": "v5SsYZ6HNrO4"
      },
      "source": [
        "test_X = data_test_encoded.to_numpy()\n",
        "y_pred = clf.predict(test_X)"
      ],
      "execution_count": null,
      "outputs": []
    },
    {
      "cell_type": "markdown",
      "metadata": {
        "id": "3mGLRJ5lfs6A"
      },
      "source": [
        "export prediction to csv file"
      ]
    },
    {
      "cell_type": "code",
      "metadata": {
        "id": "TjRZVCa2OEFM"
      },
      "source": [
        "submission = pd.DataFrame(y_pred).to_csv('submission.csv', index=False, header=False)"
      ],
      "execution_count": null,
      "outputs": []
    }
  ]
}